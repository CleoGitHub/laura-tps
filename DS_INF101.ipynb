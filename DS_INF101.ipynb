{
 "cells": [
  {
   "cell_type": "code",
   "execution_count": 97,
   "metadata": {},
   "outputs": [
    {
     "data": {
      "text/plain": [
       "<module 'DS_INF101' from '/workspaces/laura-tps/DS_INF101.py'>"
      ]
     },
     "execution_count": 97,
     "metadata": {},
     "output_type": "execute_result"
    }
   ],
   "source": [
    "import importlib\n",
    "import DS_INF101\n",
    "importlib.reload(DS_INF101)\n"
   ]
  },
  {
   "attachments": {},
   "cell_type": "markdown",
   "metadata": {},
   "source": [
    "<h3>Exercice 1</h3>"
   ]
  },
  {
   "cell_type": "code",
   "execution_count": 98,
   "metadata": {},
   "outputs": [
    {
     "name": "stdout",
     "output_type": "stream",
     "text": [
      "\u001b[91m\u001b[1mNON! 0 devrait retourner True\u001b[0m\n",
      "\u001b[92mOK! Le test est passé pour 20\u001b[0m\n",
      "\u001b[91m\u001b[1mNON! 19 devrait retourner True\u001b[0m\n",
      "\u001b[92mOK! Le test est passé pour -1\u001b[0m\n"
     ]
    }
   ],
   "source": [
    "def e1a(a) :\n",
    "    exp = False\n",
    "    return exp\n",
    "\n",
    "\n",
    "DS_INF101.test_e1a(e1a)"
   ]
  },
  {
   "cell_type": "code",
   "execution_count": null,
   "metadata": {},
   "outputs": [],
   "source": [
    "def e1b(x, y) :\n",
    "    exp = False\n",
    "    return exp\n",
    "\n",
    "DS_INF101.test_e1b(e1b)"
   ]
  },
  {
   "cell_type": "code",
   "execution_count": null,
   "metadata": {},
   "outputs": [],
   "source": [
    "def e1c(a, b) :\n",
    "    exp = False\n",
    "    return exp\n",
    "\n",
    "DS_INF101.test_e1c(e1c)"
   ]
  },
  {
   "cell_type": "code",
   "execution_count": null,
   "metadata": {},
   "outputs": [],
   "source": [
    "def e1d(x) :\n",
    "    exp = False\n",
    "    return exp\n",
    "\n",
    "DS_INF101.test_e1d(e1d)"
   ]
  },
  {
   "attachments": {},
   "cell_type": "markdown",
   "metadata": {},
   "source": [
    "<h3>Exercice 2</h3>"
   ]
  },
  {
   "cell_type": "code",
   "execution_count": null,
   "metadata": {},
   "outputs": [],
   "source": []
  },
  {
   "attachments": {},
   "cell_type": "markdown",
   "metadata": {},
   "source": [
    "<h3>Exercice 3</h3>"
   ]
  },
  {
   "cell_type": "code",
   "execution_count": null,
   "metadata": {},
   "outputs": [],
   "source": [
    "def int_sqrt(a):\n",
    "    return 0\n",
    "\n",
    "DS_INF101.test_int_sqrt(int_sqrt)"
   ]
  },
  {
   "cell_type": "code",
   "execution_count": null,
   "metadata": {},
   "outputs": [],
   "source": [
    "def heron_sqrt(a, n):\n",
    "    return 0\n",
    "\n",
    "DS_INF101.test_heron_sqrt(heron_sqrt, 5, 1000)"
   ]
  },
  {
   "cell_type": "code",
   "execution_count": null,
   "metadata": {},
   "outputs": [],
   "source": [
    "def heron_rank(a, p):\n",
    "    return 0\n",
    "\n",
    "DS_INF101.test_heron_rank(heron_rank, 5, 0.01)"
   ]
  }
 ],
 "metadata": {
  "kernelspec": {
   "display_name": "Python 3",
   "language": "python",
   "name": "python3"
  },
  "language_info": {
   "codemirror_mode": {
    "name": "ipython",
    "version": 3
   },
   "file_extension": ".py",
   "mimetype": "text/x-python",
   "name": "python",
   "nbconvert_exporter": "python",
   "pygments_lexer": "ipython3",
   "version": "3.10.4 (main, Nov 29 2022, 20:00:25) [GCC 9.4.0]"
  },
  "orig_nbformat": 4,
  "vscode": {
   "interpreter": {
    "hash": "3ad933181bd8a04b432d3370b9dc3b0662ad032c4dfaa4e4f1596c548f763858"
   }
  }
 },
 "nbformat": 4,
 "nbformat_minor": 2
}
