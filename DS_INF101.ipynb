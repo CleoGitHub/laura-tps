{
 "cells": [
  {
   "cell_type": "code",
   "execution_count": 48,
   "metadata": {},
   "outputs": [
    {
     "data": {
      "text/plain": [
       "<module 'DS_INF101' from '/workspaces/laura-tps/DS_INF101.py'>"
      ]
     },
     "execution_count": 48,
     "metadata": {},
     "output_type": "execute_result"
    }
   ],
   "source": [
    "import importlib\n",
    "import DS_INF101\n",
    "importlib.reload(DS_INF101)\n"
   ]
  },
  {
   "attachments": {},
   "cell_type": "markdown",
   "metadata": {},
   "source": [
    "<h3>Exercice 1</h3>"
   ]
  },
  {
   "cell_type": "code",
   "execution_count": 49,
   "metadata": {},
   "outputs": [
    {
     "name": "stdout",
     "output_type": "stream",
     "text": [
      "\u001b[91m\u001b[1mNON! 0 devrait retourner True\u001b[0m\n",
      "\u001b[92mOK! Le test est passé pour 20\u001b[0m\n",
      "\u001b[91m\u001b[1mNON! 19 devrait retourner True\u001b[0m\n",
      "\u001b[92mOK! Le test est passé pour -1\u001b[0m\n"
     ]
    }
   ],
   "source": [
    "def e1a(a) :\n",
    "    exp = False\n",
    "    return exp\n",
    "\n",
    "\n",
    "DS_INF101.test_e1a(e1a)"
   ]
  },
  {
   "cell_type": "code",
   "execution_count": 50,
   "metadata": {},
   "outputs": [
    {
     "name": "stdout",
     "output_type": "stream",
     "text": [
      "\u001b[92mOK! Le test est passé pour a et a\u001b[0m\n",
      "\u001b[92mOK! Le test est passé pour a et B\u001b[0m\n",
      "\u001b[91m\u001b[1mNON! a et A devrait retourner True\u001b[0m\n",
      "\u001b[91m\u001b[1mNON! A et a devrait retourner True\u001b[0m\n",
      "\u001b[92mOK! Le test est passé pour A et A\u001b[0m\n"
     ]
    }
   ],
   "source": [
    "def e1b(x, y) :\n",
    "    exp = False\n",
    "    return exp\n",
    "\n",
    "DS_INF101.test_e1b(e1b)"
   ]
  },
  {
   "cell_type": "code",
   "execution_count": 51,
   "metadata": {},
   "outputs": [
    {
     "name": "stdout",
     "output_type": "stream",
     "text": [
      "\u001b[91m\u001b[1mNON! 2 et 2 devrait retourner True\u001b[0m\n",
      "\u001b[92mOK! Le test est passé pour 2 et 6\u001b[0m\n",
      "\u001b[92mOK! Le test est passé pour 0 et 0\u001b[0m\n",
      "\u001b[91m\u001b[1mNON! 1 et 16 devrait retourner True\u001b[0m\n"
     ]
    }
   ],
   "source": [
    "def e1c(a, b) :\n",
    "    exp = False\n",
    "    return exp\n",
    "\n",
    "DS_INF101.test_e1c(e1c)"
   ]
  },
  {
   "cell_type": "code",
   "execution_count": 52,
   "metadata": {},
   "outputs": [
    {
     "name": "stdout",
     "output_type": "stream",
     "text": [
      "\u001b[92mOK! Le test est passé pour ajfklds\u001b[0m\n",
      "\u001b[91m\u001b[1mNON! Ajfkld devrait retourner True\u001b[0m\n",
      "\u001b[92mOK! Le test est passé pour Mjfkld\u001b[0m\n",
      "\u001b[92mOK! Le test est passé pour Ajfkl\u001b[0m\n",
      "\u001b[92mOK! Le test est passé pour Ajfkldf\u001b[0m\n"
     ]
    }
   ],
   "source": [
    "def e1d(x) :\n",
    "    exp = False\n",
    "    return exp\n",
    "\n",
    "DS_INF101.test_e1d(e1d)"
   ]
  },
  {
   "attachments": {},
   "cell_type": "markdown",
   "metadata": {},
   "source": [
    "<h3>Exercice 2</h3>"
   ]
  },
  {
   "cell_type": "code",
   "execution_count": 53,
   "metadata": {},
   "outputs": [],
   "source": [
    "# mot=input()\n",
    "# lepluscourt=mot\n",
    "# lepluslong=mot\n",
    "\n",
    "# while mot!='stop':\n",
    "#     mot=input()\n",
    "#     if mot!='stop':\n",
    "#         if len(mot)<len(lepluscourt):\n",
    "#             lepluscourt=mot\n",
    "#         elif len(mot)>=len(lepluslong):\n",
    "#             lepluslong=mot\n",
    "\n",
    "\n",
    "# print(lepluscourt,lepluslong)"
   ]
  },
  {
   "attachments": {},
   "cell_type": "markdown",
   "metadata": {},
   "source": [
    "<h3>Exercice 3</h3>"
   ]
  },
  {
   "cell_type": "code",
   "execution_count": 59,
   "metadata": {},
   "outputs": [
    {
     "name": "stdout",
     "output_type": "stream",
     "text": [
      "\u001b[92mOK! Le test est passé pour 8 valeur de retour 2\u001b[0m\n",
      "\u001b[92mOK! Le test est passé pour 7 valeur de retour 2\u001b[0m\n",
      "\u001b[92mOK! Le test est passé pour 17 valeur de retour 4\u001b[0m\n",
      "\u001b[92mOK! Le test est passé pour 25 valeur de retour 5\u001b[0m\n",
      "\u001b[92mOK! Le test est passé pour 90 valeur de retour 9\u001b[0m\n"
     ]
    }
   ],
   "source": [
    "def int_sqrt(a):\n",
    "    i=0\n",
    "    #quand i*i>a\n",
    "    while i*i<=a:\n",
    "        #on multiplie le nombre par lui meme \n",
    "       \n",
    "        # en lui ajoute 1 a chanque fois \n",
    "        i=i+1\n",
    "    return i-1\n",
    "\n",
    "DS_INF101.test_int_sqrt(int_sqrt)"
   ]
  },
  {
   "cell_type": "code",
   "execution_count": 67,
   "metadata": {},
   "outputs": [
    {
     "name": "stdout",
     "output_type": "stream",
     "text": [
      "\u001b[92mOK! Le test est passé pour \u001b[0m\n"
     ]
    }
   ],
   "source": [
    "def heron_sqrt(a, n):\n",
    "    #on initialise u0 a in_sqrt\n",
    "    un=int_sqrt(a)\n",
    "    #on fait une boucle\n",
    "    i=0\n",
    "    while i<n:\n",
    "        un=(un+(a/un))/2\n",
    "        i=i+1\n",
    "    #renvoie un\n",
    "    return un\n",
    "\n",
    "DS_INF101.test_heron_sqrt(heron_sqrt, 5, 3)"
   ]
  },
  {
   "cell_type": "code",
   "execution_count": 82,
   "metadata": {},
   "outputs": [
    {
     "ename": "KeyboardInterrupt",
     "evalue": "",
     "output_type": "error",
     "traceback": [
      "\u001b[0;31m---------------------------------------------------------------------------\u001b[0m",
      "\u001b[0;31mKeyboardInterrupt\u001b[0m                         Traceback (most recent call last)",
      "Cell \u001b[0;32mIn[82], line 10\u001b[0m\n\u001b[1;32m      7\u001b[0m         i\u001b[39m=\u001b[39mi\u001b[39m+\u001b[39m\u001b[39m1\u001b[39m\n\u001b[1;32m      8\u001b[0m     \u001b[39mreturn\u001b[39;00m i\n\u001b[0;32m---> 10\u001b[0m \u001b[39mprint\u001b[39m(heron_rank( \u001b[39m17532656\u001b[39;49m, \u001b[39m0.0000000000001\u001b[39;49m))\n\u001b[1;32m     11\u001b[0m DS_INF101\u001b[39m.\u001b[39mtest_heron_rank(heron_rank, \u001b[39m17\u001b[39m, \u001b[39m0.00000001\u001b[39m)\n",
      "Cell \u001b[0;32mIn[82], line 5\u001b[0m, in \u001b[0;36mheron_rank\u001b[0;34m(a, p)\u001b[0m\n\u001b[1;32m      3\u001b[0m i\u001b[39m=\u001b[39m\u001b[39m0\u001b[39m\n\u001b[1;32m      4\u001b[0m \u001b[39m#on cherche n\u001b[39;00m\n\u001b[0;32m----> 5\u001b[0m \u001b[39mwhile\u001b[39;00m \u001b[39mnot\u001b[39;00m(a\u001b[39m-\u001b[39mp\u001b[39m<\u001b[39m\u001b[39m=\u001b[39mun\u001b[39m*\u001b[39mun\u001b[39m<\u001b[39m\u001b[39m=\u001b[39ma\u001b[39m+\u001b[39mp):\n\u001b[1;32m      6\u001b[0m     un\u001b[39m=\u001b[39m(un\u001b[39m+\u001b[39m(a\u001b[39m/\u001b[39mun))\u001b[39m/\u001b[39m\u001b[39m2\u001b[39m\n\u001b[1;32m      7\u001b[0m     i\u001b[39m=\u001b[39mi\u001b[39m+\u001b[39m\u001b[39m1\u001b[39m\n",
      "\u001b[0;31mKeyboardInterrupt\u001b[0m: "
     ]
    }
   ],
   "source": [
    "def heron_rank(a, p):\n",
    "    un=int_sqrt(a)\n",
    "    i=0\n",
    "    #on cherche n\n",
    "    while not(a-p<=un*un<=a+p):\n",
    "        un=(un+(a/un))/2\n",
    "        i=i+1\n",
    "    return i\n",
    "\n",
    "print(heron_rank( 17532656, 0.0000000000001))\n",
    "DS_INF101.test_heron_rank(heron_rank, 17, 0.00000001)"
   ]
  },
  {
   "cell_type": "code",
   "execution_count": 93,
   "metadata": {},
   "outputs": [
    {
     "name": "stdout",
     "output_type": "stream",
     "text": [
      "Precision de 0.01 obtenue au rang 3\n",
      "Carre de l'estimation de rang 3 = 7.000003901511219\n",
      "Precision de 0.01 obtenue au rang 3\n",
      "Carre de l'estimation de rang 3 = 7.000003901511219\n"
     ]
    }
   ],
   "source": [
    "rep='oui'\n",
    "while rep=='oui':\n",
    "    a=int(input(\"a>=1? :\"))\n",
    "    while 1 > a:\n",
    "        a=int(input(\"a>=1? :\"))\n",
    "\n",
    "    p=float(input(\"Precision? : \"))\n",
    "    n=heron_rank(a,p)\n",
    "    print(\"Precision de\",p,\"obtenue au rang\", n)\n",
    "    c=heron_sqrt(a,n)\n",
    "    print(\"Carre de l'estimation de rang\",n,\"=\",c*c)\n",
    "    rep=input()\n"
   ]
  },
  {
   "cell_type": "code",
   "execution_count": null,
   "metadata": {},
   "outputs": [],
   "source": []
  }
 ],
 "metadata": {
  "kernelspec": {
   "display_name": "Python 3",
   "language": "python",
   "name": "python3"
  },
  "language_info": {
   "codemirror_mode": {
    "name": "ipython",
    "version": 3
   },
   "file_extension": ".py",
   "mimetype": "text/x-python",
   "name": "python",
   "nbconvert_exporter": "python",
   "pygments_lexer": "ipython3",
   "version": "3.10.4"
  },
  "orig_nbformat": 4,
  "vscode": {
   "interpreter": {
    "hash": "3ad933181bd8a04b432d3370b9dc3b0662ad032c4dfaa4e4f1596c548f763858"
   }
  }
 },
 "nbformat": 4,
 "nbformat_minor": 2
}
