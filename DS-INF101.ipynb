{
 "cells": [
  {
   "attachments": {},
   "cell_type": "markdown",
   "metadata": {},
   "source": [
    "<h3>Exercice 1</h3>"
   ]
  },
  {
   "cell_type": "code",
   "execution_count": 21,
   "metadata": {},
   "outputs": [
    {
     "name": "stdout",
     "output_type": "stream",
     "text": [
      "NON! 0 devrait retourner True\n",
      "OK! Le test est passé pour 20\n",
      "NON! 19 devrait retourner True\n",
      "OK! Le test est passé pour -1\n"
     ]
    }
   ],
   "source": [
    "def e1a(a) :\n",
    "    exp = False\n",
    "    return exp\n",
    "\n",
    "values = [[0, True], [20, False], [19, True], [-1, False]]\n",
    "for value in values :\n",
    "    if e1a(value[0]) != value[1]: \n",
    "        print(\"NON! \" + str(value[0]) + \" devrait retourner \" + str(value[1]))\n",
    "    else:\n",
    "        print(\"OK! Le test est passé pour \" + str(value[0]))"
   ]
  },
  {
   "cell_type": "code",
   "execution_count": 22,
   "metadata": {},
   "outputs": [
    {
     "name": "stdout",
     "output_type": "stream",
     "text": [
      "OK! Le test est passé pour a et a\n",
      "OK! Le test est passé pour a et B\n",
      "NON! a et A devrait retourner True\n",
      "NON! A et a devrait retourner True\n",
      "OK! Le test est passé pour A et A\n"
     ]
    }
   ],
   "source": [
    "def e1b(x, y) :\n",
    "    exp = False\n",
    "    return exp\n",
    "\n",
    "values = [[\"a\",\"a\", False], [\"a\",\"B\", False], [\"a\",\"A\", True], [\"A\",\"a\", True], [\"A\",\"A\", False]]\n",
    "for value in values :\n",
    "    if e1b(value[0], value[1]) != value[2]: \n",
    "        print(\"NON! \" + str(value[0]) + \" et \" + str(value[1]) + \" devrait retourner \" + str(value[2]))\n",
    "    else:\n",
    "        print(\"OK! Le test est passé pour \" + str(value[0]) + \" et \" + str(value[1]))"
   ]
  },
  {
   "cell_type": "code",
   "execution_count": 23,
   "metadata": {},
   "outputs": [
    {
     "name": "stdout",
     "output_type": "stream",
     "text": [
      "NON! 2 et 2 devrait retourner True\n",
      "OK! Le test est passé pour 2 et 6\n",
      "OK! Le test est passé pour 0 et 0\n",
      "NON! 1 et 16 devrait retourner True\n"
     ]
    }
   ],
   "source": [
    "def e1c(a, b) :\n",
    "    exp = False\n",
    "    return exp\n",
    "\n",
    "values = [[2, 2, True], [2, 6, False], [0, 0, False], [1, 16, True]]\n",
    "for value in values :\n",
    "    if e1c(value[0], value[1]) != value[2]: \n",
    "        print(\"NON! \" + str(value[0]) + \" et \" + str(value[1]) + \" devrait retourner \" + str(value[2]))\n",
    "    else:\n",
    "        print(\"OK! Le test est passé pour \" + str(value[0]) + \" et \" + str(value[1]))"
   ]
  },
  {
   "cell_type": "code",
   "execution_count": 24,
   "metadata": {},
   "outputs": [
    {
     "name": "stdout",
     "output_type": "stream",
     "text": [
      "OK! Le test est passé pour ajfklds\n",
      "NON! Ajfkld devrait retourner True\n",
      "OK! Le test est passé pour Mjfkld\n",
      "OK! Le test est passé pour Ajfkl\n",
      "OK! Le test est passé pour Ajfkldf\n"
     ]
    }
   ],
   "source": [
    "def e1d(x) :\n",
    "    exp = False\n",
    "    return exp\n",
    "\n",
    "values = [[\"ajfklds\", False], [\"Ajfkld\", True], [\"Mjfkld\", False], [\"Ajfkl\", False], [\"Ajfkldf\", False]]\n",
    "for value in values :\n",
    "    if e1d(value[0]) != value[1]: \n",
    "        print(\"NON! \" + str(value[0]) + \" devrait retourner \" + str(value[1]))\n",
    "    else:\n",
    "        print(\"OK! Le test est passé pour \" + str(value[0]))"
   ]
  },
  {
   "attachments": {},
   "cell_type": "markdown",
   "metadata": {},
   "source": [
    "<h3>Exercice 2</h3>"
   ]
  },
  {
   "cell_type": "code",
   "execution_count": null,
   "metadata": {},
   "outputs": [],
   "source": []
  },
  {
   "attachments": {},
   "cell_type": "markdown",
   "metadata": {},
   "source": [
    "<h3>Exercice 3</h3>"
   ]
  },
  {
   "cell_type": "code",
   "execution_count": null,
   "metadata": {},
   "outputs": [],
   "source": [
    "int_sqrt(a)"
   ]
  }
 ],
 "metadata": {
  "kernelspec": {
   "display_name": "Python 3",
   "language": "python",
   "name": "python3"
  },
  "language_info": {
   "codemirror_mode": {
    "name": "ipython",
    "version": 3
   },
   "file_extension": ".py",
   "mimetype": "text/x-python",
   "name": "python",
   "nbconvert_exporter": "python",
   "pygments_lexer": "ipython3",
   "version": "3.10.4"
  },
  "orig_nbformat": 4,
  "vscode": {
   "interpreter": {
    "hash": "3ad933181bd8a04b432d3370b9dc3b0662ad032c4dfaa4e4f1596c548f763858"
   }
  }
 },
 "nbformat": 4,
 "nbformat_minor": 2
}
